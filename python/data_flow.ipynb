{
 "cells": [
  {
   "cell_type": "markdown",
   "metadata": {},
   "source": [
    "# Exports workflow"
   ]
  },
  {
   "cell_type": "markdown",
   "metadata": {},
   "source": [
    "## Libraries"
   ]
  },
  {
   "cell_type": "markdown",
   "metadata": {},
   "source": [
    "Starting loading with some libraries"
   ]
  },
  {
   "cell_type": "code",
   "execution_count": 58,
   "metadata": {},
   "outputs": [],
   "source": [
    "import pandas as pd\n",
    "import numpy as np\n",
    "import os\n",
    "import datetime as dt"
   ]
  },
  {
   "cell_type": "markdown",
   "metadata": {},
   "source": [
    "Now we check the files in temporal folder"
   ]
  },
  {
   "cell_type": "code",
   "execution_count": 3,
   "metadata": {},
   "outputs": [
    {
     "name": "stdout",
     "output_type": "stream",
     "text": [
      "['con_data_2022_03_16__21_06_03.xls', 'cap_data_2022_03_16__21_06_42.xls']\n"
     ]
    }
   ],
   "source": [
    "path = os.path.join(os.path.dirname(os.getcwd()), \"temp\")\n",
    "path_con = [e for e in os.listdir(path) if e.startswith('con_data')][0]\n",
    "path_chp = [e for e in os.listdir(path) if e.startswith('cap_data')][0]\n",
    "print([path_con, path_chp])"
   ]
  },
  {
   "cell_type": "markdown",
   "metadata": {},
   "source": [
    "## cleaning new data"
   ]
  },
  {
   "cell_type": "markdown",
   "metadata": {},
   "source": [
    "We clean the data"
   ]
  },
  {
   "cell_type": "code",
   "execution_count": 22,
   "metadata": {},
   "outputs": [
    {
     "name": "stdout",
     "output_type": "stream",
     "text": [
      "WARNING *** file size (192128) not 512 + multiple of sector size (512)\n"
     ]
    }
   ],
   "source": [
    "data_con_raw = pd.read_excel(os.path.join(path, path_con), skiprows = 1)\n",
    "data_con_raw = data_con_raw.rename(columns={data_con_raw.columns[0] : \"country\"})\n",
    "cols_expected = [str(e) for e in list(range(1990, 2030)) + [\"country\"]]\n",
    "cols2drop = [e for e in data_con_raw.columns if e not in cols_expected]\n",
    "cols2drop = [e for e in cols2drop if not e.startswith('202')]\n",
    "data_con_raw = data_con_raw.drop(columns=cols2drop, axis = 0)\n",
    "# data_con_raw = data_con_raw.set_index(\"country\")"
   ]
  },
  {
   "cell_type": "markdown",
   "metadata": {},
   "source": [
    "Now we convert the data to long"
   ]
  },
  {
   "cell_type": "code",
   "execution_count": 34,
   "metadata": {},
   "outputs": [
    {
     "data": {
      "text/html": [
       "<div>\n",
       "<style scoped>\n",
       "    .dataframe tbody tr th:only-of-type {\n",
       "        vertical-align: middle;\n",
       "    }\n",
       "\n",
       "    .dataframe tbody tr th {\n",
       "        vertical-align: top;\n",
       "    }\n",
       "\n",
       "    .dataframe thead th {\n",
       "        text-align: right;\n",
       "    }\n",
       "</style>\n",
       "<table border=\"1\" class=\"dataframe\">\n",
       "  <thead>\n",
       "    <tr style=\"text-align: right;\">\n",
       "      <th></th>\n",
       "      <th>country</th>\n",
       "      <th>year</th>\n",
       "      <th>value</th>\n",
       "    </tr>\n",
       "  </thead>\n",
       "  <tbody>\n",
       "    <tr>\n",
       "      <th>2</th>\n",
       "      <td>Afganistán</td>\n",
       "      <td>1998</td>\n",
       "      <td>0.000000e+00</td>\n",
       "    </tr>\n",
       "    <tr>\n",
       "      <th>3</th>\n",
       "      <td>Albania</td>\n",
       "      <td>1998</td>\n",
       "      <td>0.000000e+00</td>\n",
       "    </tr>\n",
       "    <tr>\n",
       "      <th>4</th>\n",
       "      <td>Alemania</td>\n",
       "      <td>1998</td>\n",
       "      <td>0.000000e+00</td>\n",
       "    </tr>\n",
       "    <tr>\n",
       "      <th>5</th>\n",
       "      <td>Andorra</td>\n",
       "      <td>1998</td>\n",
       "      <td>0.000000e+00</td>\n",
       "    </tr>\n",
       "    <tr>\n",
       "      <th>9</th>\n",
       "      <td>Antigua y Barbuda</td>\n",
       "      <td>1998</td>\n",
       "      <td>0.000000e+00</td>\n",
       "    </tr>\n",
       "    <tr>\n",
       "      <th>...</th>\n",
       "      <td>...</td>\n",
       "      <td>...</td>\n",
       "      <td>...</td>\n",
       "    </tr>\n",
       "    <tr>\n",
       "      <th>5884</th>\n",
       "      <td>Ucrania</td>\n",
       "      <td>2022*</td>\n",
       "      <td>1.032729e+03</td>\n",
       "    </tr>\n",
       "    <tr>\n",
       "      <th>5886</th>\n",
       "      <td>Uruguay</td>\n",
       "      <td>2022*</td>\n",
       "      <td>4.318386e+02</td>\n",
       "    </tr>\n",
       "    <tr>\n",
       "      <th>5889</th>\n",
       "      <td>Venezuela</td>\n",
       "      <td>2022*</td>\n",
       "      <td>1.270334e+03</td>\n",
       "    </tr>\n",
       "    <tr>\n",
       "      <th>5890</th>\n",
       "      <td>Vietnam</td>\n",
       "      <td>2022*</td>\n",
       "      <td>1.128535e+03</td>\n",
       "    </tr>\n",
       "    <tr>\n",
       "      <th>5899</th>\n",
       "      <td>Grand Total</td>\n",
       "      <td>2022*</td>\n",
       "      <td>1.145138e+06</td>\n",
       "    </tr>\n",
       "  </tbody>\n",
       "</table>\n",
       "<p>3672 rows × 3 columns</p>\n",
       "</div>"
      ],
      "text/plain": [
       "                country   year         value\n",
       "2            Afganistán   1998  0.000000e+00\n",
       "3               Albania   1998  0.000000e+00\n",
       "4              Alemania   1998  0.000000e+00\n",
       "5               Andorra   1998  0.000000e+00\n",
       "9     Antigua y Barbuda   1998  0.000000e+00\n",
       "...                 ...    ...           ...\n",
       "5884            Ucrania  2022*  1.032729e+03\n",
       "5886            Uruguay  2022*  4.318386e+02\n",
       "5889          Venezuela  2022*  1.270334e+03\n",
       "5890            Vietnam  2022*  1.128535e+03\n",
       "5899        Grand Total  2022*  1.145138e+06\n",
       "\n",
       "[3672 rows x 3 columns]"
      ]
     },
     "execution_count": 34,
     "metadata": {},
     "output_type": "execute_result"
    }
   ],
   "source": [
    "data_con_long = pd.melt(data_con_raw, id_vars=\"country\", var_name=\"year\")\n",
    "data_con_long[\"value\"] = data_con_long[\"value\"].replace({\"NaN\": np.nan})\n",
    "data_con_long = data_con_long.query(\"value.notna()\")\n",
    "data_con_long"
   ]
  },
  {
   "cell_type": "markdown",
   "metadata": {},
   "source": [
    "Fixing some countries entries"
   ]
  },
  {
   "cell_type": "code",
   "execution_count": 37,
   "metadata": {},
   "outputs": [],
   "source": [
    "data_con_long[\"country\"] = data_con_long[\"country\"].replace({\"Reino Unido-No UE\": \"Reino Unido\",\n",
    " \"Reino Unido-UE\" : \"Reino Unido\"\n",
    "})\n",
    "data_con_long = data_con_long.query(\"country != 'Grand Total'\")"
   ]
  },
  {
   "cell_type": "markdown",
   "metadata": {},
   "source": [
    "Now, we add the current date"
   ]
  },
  {
   "cell_type": "code",
   "execution_count": 44,
   "metadata": {},
   "outputs": [
    {
     "name": "stderr",
     "output_type": "stream",
     "text": [
      "C:\\Users\\Marlon.molina\\AppData\\Local\\Temp\\ipykernel_27560\\2596054046.py:1: SettingWithCopyWarning: \n",
      "A value is trying to be set on a copy of a slice from a DataFrame.\n",
      "Try using .loc[row_indexer,col_indexer] = value instead\n",
      "\n",
      "See the caveats in the documentation: https://pandas.pydata.org/pandas-docs/stable/user_guide/indexing.html#returning-a-view-versus-a-copy\n",
      "  data_con_long[\"time\"] = dt.datetime.now()\n"
     ]
    },
    {
     "data": {
      "text/html": [
       "<div>\n",
       "<style scoped>\n",
       "    .dataframe tbody tr th:only-of-type {\n",
       "        vertical-align: middle;\n",
       "    }\n",
       "\n",
       "    .dataframe tbody tr th {\n",
       "        vertical-align: top;\n",
       "    }\n",
       "\n",
       "    .dataframe thead th {\n",
       "        text-align: right;\n",
       "    }\n",
       "</style>\n",
       "<table border=\"1\" class=\"dataframe\">\n",
       "  <thead>\n",
       "    <tr style=\"text-align: right;\">\n",
       "      <th></th>\n",
       "      <th>country</th>\n",
       "      <th>year</th>\n",
       "      <th>value</th>\n",
       "      <th>time</th>\n",
       "    </tr>\n",
       "  </thead>\n",
       "  <tbody>\n",
       "    <tr>\n",
       "      <th>2</th>\n",
       "      <td>Afganistán</td>\n",
       "      <td>1998</td>\n",
       "      <td>0.00000</td>\n",
       "      <td>2022-04-12 20:33:16.082471</td>\n",
       "    </tr>\n",
       "    <tr>\n",
       "      <th>3</th>\n",
       "      <td>Albania</td>\n",
       "      <td>1998</td>\n",
       "      <td>0.00000</td>\n",
       "      <td>2022-04-12 20:33:16.082471</td>\n",
       "    </tr>\n",
       "    <tr>\n",
       "      <th>4</th>\n",
       "      <td>Alemania</td>\n",
       "      <td>1998</td>\n",
       "      <td>0.00000</td>\n",
       "      <td>2022-04-12 20:33:16.082471</td>\n",
       "    </tr>\n",
       "    <tr>\n",
       "      <th>5</th>\n",
       "      <td>Andorra</td>\n",
       "      <td>1998</td>\n",
       "      <td>0.00000</td>\n",
       "      <td>2022-04-12 20:33:16.082471</td>\n",
       "    </tr>\n",
       "    <tr>\n",
       "      <th>9</th>\n",
       "      <td>Antigua y Barbuda</td>\n",
       "      <td>1998</td>\n",
       "      <td>0.00000</td>\n",
       "      <td>2022-04-12 20:33:16.082471</td>\n",
       "    </tr>\n",
       "    <tr>\n",
       "      <th>...</th>\n",
       "      <td>...</td>\n",
       "      <td>...</td>\n",
       "      <td>...</td>\n",
       "      <td>...</td>\n",
       "    </tr>\n",
       "    <tr>\n",
       "      <th>5883</th>\n",
       "      <td>Turquía</td>\n",
       "      <td>2022*</td>\n",
       "      <td>1891.72654</td>\n",
       "      <td>2022-04-12 20:33:16.082471</td>\n",
       "    </tr>\n",
       "    <tr>\n",
       "      <th>5884</th>\n",
       "      <td>Ucrania</td>\n",
       "      <td>2022*</td>\n",
       "      <td>1032.72948</td>\n",
       "      <td>2022-04-12 20:33:16.082471</td>\n",
       "    </tr>\n",
       "    <tr>\n",
       "      <th>5886</th>\n",
       "      <td>Uruguay</td>\n",
       "      <td>2022*</td>\n",
       "      <td>431.83857</td>\n",
       "      <td>2022-04-12 20:33:16.082471</td>\n",
       "    </tr>\n",
       "    <tr>\n",
       "      <th>5889</th>\n",
       "      <td>Venezuela</td>\n",
       "      <td>2022*</td>\n",
       "      <td>1270.33431</td>\n",
       "      <td>2022-04-12 20:33:16.082471</td>\n",
       "    </tr>\n",
       "    <tr>\n",
       "      <th>5890</th>\n",
       "      <td>Vietnam</td>\n",
       "      <td>2022*</td>\n",
       "      <td>1128.53528</td>\n",
       "      <td>2022-04-12 20:33:16.082471</td>\n",
       "    </tr>\n",
       "  </tbody>\n",
       "</table>\n",
       "<p>3647 rows × 4 columns</p>\n",
       "</div>"
      ],
      "text/plain": [
       "                country   year       value                       time\n",
       "2            Afganistán   1998     0.00000 2022-04-12 20:33:16.082471\n",
       "3               Albania   1998     0.00000 2022-04-12 20:33:16.082471\n",
       "4              Alemania   1998     0.00000 2022-04-12 20:33:16.082471\n",
       "5               Andorra   1998     0.00000 2022-04-12 20:33:16.082471\n",
       "9     Antigua y Barbuda   1998     0.00000 2022-04-12 20:33:16.082471\n",
       "...                 ...    ...         ...                        ...\n",
       "5883            Turquía  2022*  1891.72654 2022-04-12 20:33:16.082471\n",
       "5884            Ucrania  2022*  1032.72948 2022-04-12 20:33:16.082471\n",
       "5886            Uruguay  2022*   431.83857 2022-04-12 20:33:16.082471\n",
       "5889          Venezuela  2022*  1270.33431 2022-04-12 20:33:16.082471\n",
       "5890            Vietnam  2022*  1128.53528 2022-04-12 20:33:16.082471\n",
       "\n",
       "[3647 rows x 4 columns]"
      ]
     },
     "execution_count": 44,
     "metadata": {},
     "output_type": "execute_result"
    }
   ],
   "source": [
    "data_con_long[\"time\"] = dt.datetime.now()\n",
    "data_con_long"
   ]
  },
  {
   "cell_type": "markdown",
   "metadata": {},
   "source": [
    "Now we aggregate the data to obtain the new values to compare"
   ]
  },
  {
   "cell_type": "code",
   "execution_count": 123,
   "metadata": {},
   "outputs": [],
   "source": [
    "data_con_new = data_con_long.groupby([\"year\"]).agg({\"value\" : np.sum})\n",
    "data_con_new = data_con_new.rename(columns={\"value\":\"new\"})\n",
    "data_con_new.index = data_con_new.index.astype(\"str\").str.strip()"
   ]
  },
  {
   "cell_type": "markdown",
   "metadata": {},
   "source": [
    "## Loading historical data"
   ]
  },
  {
   "cell_type": "markdown",
   "metadata": {},
   "source": [
    "The next step is to check if there is any historical (must be in this pipeline) and append the new data"
   ]
  },
  {
   "cell_type": "code",
   "execution_count": 87,
   "metadata": {},
   "outputs": [
    {
     "name": "stderr",
     "output_type": "stream",
     "text": [
      "C:\\Users\\Marlon.molina\\AppData\\Local\\Temp\\ipykernel_27560\\1786779730.py:3: FutureWarning: The frame.append method is deprecated and will be removed from pandas in a future version. Use pandas.concat instead.\n",
      "  data_con_hist2 = data_con_hist.append(data_con_long)\n"
     ]
    }
   ],
   "source": [
    "path_con_hist = os.path.join(os.path.dirname(os.getcwd()), \"data\", \"historical_country_data_procomer.csv\")\n",
    "data_con_hist = pd.read_csv(path_con_hist, delimiter='|')\n",
    "data_con_hist2 = data_con_hist.append(data_con_long)\n",
    "data_con_hist2.to_csv(path_con_hist, sep='|', index=False)"
   ]
  },
  {
   "cell_type": "markdown",
   "metadata": {},
   "source": [
    "Now, its time to filter with the last timestamp and group the data by year"
   ]
  },
  {
   "cell_type": "code",
   "execution_count": 124,
   "metadata": {},
   "outputs": [],
   "source": [
    "last_time = data_con_hist[\"time\"].min()\n",
    "data_con_old = data_con_hist.query(\"time == @last_time\")\n",
    "data_con_old = data_con_old.groupby([\"year\"]).agg({\"value\" : np.sum})\n",
    "data_con_old = data_con_old.rename(columns={\"value\":\"old\"})\n",
    "data_con_old.index = data_con_old.index.astype(\"str\").str.strip()"
   ]
  },
  {
   "cell_type": "markdown",
   "metadata": {},
   "source": [
    "## Compare old and new data frame"
   ]
  },
  {
   "cell_type": "markdown",
   "metadata": {},
   "source": [
    "Now we assign a tol value. Then we used to create a check column"
   ]
  },
  {
   "cell_type": "code",
   "execution_count": 147,
   "metadata": {},
   "outputs": [],
   "source": [
    "tol = 0.001\n",
    "con_join = pd.merge(data_con_old, data_con_new, how=\"outer\", left_index=True, right_index=True)\n",
    "con_join[[\"old\", \"new\"]] = con_join[[\"old\", \"new\"]].replace({np.nan : 0})\n",
    "con_join[\"check\"] = abs(con_join[\"old\"] - con_join[\"new\"])\n",
    "con_join[\"check\"] = con_join[\"check\"] <= tol\n",
    "con_status = con_join\n",
    "con_check = con_join.query(\"~ check\")"
   ]
  },
  {
   "cell_type": "markdown",
   "metadata": {},
   "source": [
    "Now we save both, the status and check data frames"
   ]
  },
  {
   "cell_type": "code",
   "execution_count": null,
   "metadata": {},
   "outputs": [],
   "source": [
    "path_con_status = os.path.join(os.path.dirname(os.getcwd()), \"data\", \"status_procomer.csv\")\n",
    "path_con_check = os.path.join(os.path.dirname(os.getcwd()), \"data\", \"check_procomer.csv\")\n",
    "con_status.to_csv(path_con_status, sep='|', index=False)\n",
    "con_check.to_csv(path_con_check, sep='|', index=False)"
   ]
  }
 ],
 "metadata": {
  "interpreter": {
   "hash": "ee4eb2ac5da7be7d5679ac8d94db00a402e909802923f0d25f3754fa90f0fa80"
  },
  "kernelspec": {
   "display_name": "Python 3.9.12 (conda)",
   "language": "python",
   "name": "python3"
  },
  "language_info": {
   "codemirror_mode": {
    "name": "ipython",
    "version": 3
   },
   "file_extension": ".py",
   "mimetype": "text/x-python",
   "name": "python",
   "nbconvert_exporter": "python",
   "pygments_lexer": "ipython3",
   "version": "3.9.12"
  },
  "orig_nbformat": 4
 },
 "nbformat": 4,
 "nbformat_minor": 2
}
