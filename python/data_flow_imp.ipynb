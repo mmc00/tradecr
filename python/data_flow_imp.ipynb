{
 "cells": [
  {
   "cell_type": "markdown",
   "metadata": {},
   "source": [
    "# Imports workflow"
   ]
  },
  {
   "cell_type": "markdown",
   "metadata": {},
   "source": [
    "This workflow it is a little more complex because here we need to download the data from the Central Bank. In exports, the data was already downloaded in the procomer_chapter and procomer_country scripts"
   ]
  },
  {
   "cell_type": "code",
   "execution_count": null,
   "metadata": {},
   "outputs": [],
   "source": [
    "import selenium as sl\n",
    "print(sl.__version__)"
   ]
  },
  {
   "cell_type": "markdown",
   "metadata": {},
   "source": [
    "## Libraries"
   ]
  },
  {
   "cell_type": "markdown",
   "metadata": {},
   "source": [
    "Starting loading some libraries"
   ]
  },
  {
   "cell_type": "code",
   "execution_count": null,
   "metadata": {},
   "outputs": [],
   "source": [
    "from pathlib import Path\n",
    "import datetime as dt\n",
    "import requests\n",
    "import xml.etree.ElementTree as ET\n",
    "import pandas as pd\n",
    "import numpy as np\n",
    "import re\n",
    "import os"
   ]
  },
  {
   "cell_type": "markdown",
   "metadata": {},
   "source": [
    "Some auxilar functions"
   ]
  },
  {
   "cell_type": "code",
   "execution_count": null,
   "metadata": {},
   "outputs": [],
   "source": [
    "def string2number(x):\n",
    "    y = re.findall(\"[\\d]\", x)\n",
    "    y = ''.join(y)\n",
    "    return y\n",
    "\n",
    "def get_correct_exr(x):\n",
    "    if len(x) == 5:\n",
    "        y = pd.to_numeric(x) / 100\n",
    "        return y\n",
    "    if len(x) == 3:\n",
    "        y = pd.to_numeric(x)\n",
    "        return y\n",
    "    raise ValueError(\"Not correct len for string (must be 5 or 3)\")\n",
    "    "
   ]
  },
  {
   "cell_type": "code",
   "execution_count": null,
   "metadata": {},
   "outputs": [],
   "source": [
    "buy = \"¢662,00\"\n",
    "buy2 = string2number(buy)\n",
    "buy2 = get_correct_exr(buy2)\n",
    "print(buy2)"
   ]
  },
  {
   "cell_type": "markdown",
   "metadata": {},
   "source": [
    "Now we create our parameters to pass in the expect call to the API of BCCR"
   ]
  },
  {
   "cell_type": "code",
   "execution_count": null,
   "metadata": {},
   "outputs": [],
   "source": [
    "base = \"https://gee.bccr.fi.cr/Indicadores/Suscripciones/WS/wsindicadoreseconomicos.asmx/ObtenerIndicadoresEconomicos?\"\n",
    "final_day = dt.datetime.now().date().replace(month=12, day=31).strftime(\"%d/%m/%Y\")\n",
    "params_bccr = {\n",
    "    \"Indicador\" : \"1993\",\n",
    "    \"FechaInicio\" : \"01/01/1999\",\n",
    "    \"FechaFinal\" : final_day,\n",
    "    \"Nombre\" : \"Marlon\",\n",
    "    \"Subniveles\" : \"S\",\n",
    "    \"CorreoElectronico\" : os.getenv(\"BCCR_USER\"),\n",
    "    \"Token\" : os.getenv(\"BCCR_PASS\")\n",
    "}"
   ]
  },
  {
   "cell_type": "markdown",
   "metadata": {},
   "source": [
    "We do the call. We check it, if it is 200, it was fine"
   ]
  },
  {
   "cell_type": "code",
   "execution_count": null,
   "metadata": {},
   "outputs": [],
   "source": [
    "response = requests.get(base, params=params_bccr)\n",
    "print(response.status_code)"
   ]
  },
  {
   "cell_type": "markdown",
   "metadata": {},
   "source": [
    "Let convert the response content into a pandas dataframe"
   ]
  },
  {
   "cell_type": "code",
   "execution_count": null,
   "metadata": {},
   "outputs": [],
   "source": [
    "root = ET.fromstring(response.content)\n",
    "rows = {\n",
    "    \"cod\": [x.text for x in root.findall(\".//COD_INDICADORINTERNO\")],\n",
    "    \"date\": [x.text for x in root.findall(\".//DES_FECHA\")],\n",
    "    \"value\": [x.text for x in root.findall(\".//NUM_VALOR\")],\n",
    "}\n",
    "raw_df = pd.DataFrame(rows)\n"
   ]
  },
  {
   "cell_type": "markdown",
   "metadata": {},
   "source": [
    "We create a month and year col"
   ]
  },
  {
   "cell_type": "code",
   "execution_count": null,
   "metadata": {},
   "outputs": [],
   "source": [
    "raw_df.loc[:, \"date\"] = pd.to_datetime(raw_df.loc[:, \"date\"])\n",
    "raw_df.loc[:, \"year\"] = raw_df.date.dt.year\n",
    "raw_df.loc[:, \"month\"] = raw_df.date.dt.month\n",
    "raw_df"
   ]
  },
  {
   "cell_type": "markdown",
   "metadata": {},
   "source": [
    "Now we filter the month 12 and a specif year of study (which the current year)"
   ]
  },
  {
   "cell_type": "code",
   "execution_count": null,
   "metadata": {},
   "outputs": [],
   "source": [
    "current_year = dt.datetime.now().year\n",
    "agg_imp = raw_df.query(\"month == 12 | year == @current_year\").copy(deep=True)\n",
    "agg_imp.loc[:, \"date\"] = dt.datetime.now()\n",
    "agg_imp"
   ]
  },
  {
   "cell_type": "markdown",
   "metadata": {},
   "source": [
    "Now, we read the historical data. We convert the year to integer and round to 4 digits the value col"
   ]
  },
  {
   "cell_type": "code",
   "execution_count": null,
   "metadata": {},
   "outputs": [],
   "source": [
    "path_imp_hist = Path.cwd().parent.joinpath(\"data\", \"historical_imp_data_bccr.csv\")\n",
    "data_imp_hist = pd.read_csv(path_imp_hist,\n",
    "sep=\"|\")\n",
    "data_imp_hist.loc[:, \"time\"] = pd.to_datetime(data_imp_hist.loc[:, \"time\"])\n",
    "data_imp_hist.loc[:, \"year\"] = data_imp_hist.loc[:, \"year\"].astype(\"str\").str.strip()\n",
    "data_imp_hist.loc[:, \"year\"] = data_imp_hist.loc[:, \"year\"].replace({\"NaN\": np.nan})\n",
    "data_imp_hist.loc[:, \"year\"] = data_imp_hist.loc[:, \"year\"].replace({\"nan\": np.nan})\n",
    "data_imp_hist.loc[:, \"year\"] = pd.to_numeric(data_imp_hist.loc[:, \"year\"], downcast='integer')\n",
    "data_imp_hist.loc[:, \"year\"] = round(data_imp_hist.loc[:, \"year\"], 0)\n",
    "data_imp_hist.loc[:, \"value\"] = data_imp_hist.loc[:, \"value\"].replace({\"NaN\": np.nan})\n",
    "data_imp_hist.loc[:, \"value\"] = data_imp_hist.loc[:, \"value\"].replace({\"nan\": np.nan})\n",
    "data_imp_hist.loc[:, \"value\"] = pd.to_numeric(data_imp_hist.loc[:, \"value\"], errors='coerce')"
   ]
  },
  {
   "cell_type": "markdown",
   "metadata": {},
   "source": [
    "Now, its time to filter with the last timestamp and group the data by year."
   ]
  },
  {
   "cell_type": "code",
   "execution_count": null,
   "metadata": {},
   "outputs": [],
   "source": [
    "last_time = data_imp_hist[\"time\"].min()\n",
    "last_time"
   ]
  },
  {
   "cell_type": "code",
   "execution_count": null,
   "metadata": {},
   "outputs": [],
   "source": [
    "data_imp_hist"
   ]
  },
  {
   "cell_type": "code",
   "execution_count": null,
   "metadata": {},
   "outputs": [],
   "source": [
    "data_imp_hist = (data_imp_hist.query(\"time == @last_time\").copy(deep=True))\n",
    "data_impagg_hist = data_imp_hist.groupby([\"year\", \"month\"]).agg({\"value\" : np.sum})\n",
    "data_impagg_hist = data_impagg_hist.rename(columns={\"value\":\"old\"})\n",
    "data_impagg_hist = data_impagg_hist.reset_index()\n",
    "data_impagg_hist.year = data_impagg_hist.year.astype(int)\n",
    "data_impagg_hist.month = data_impagg_hist.month.astype(int)\n",
    "data_impagg_hist.loc[:, \"old\"] = data_impagg_hist.loc[:, \"old\"].round(4)"
   ]
  },
  {
   "cell_type": "code",
   "execution_count": null,
   "metadata": {},
   "outputs": [],
   "source": [
    "data_impagg_hist = data_impagg_hist.query(\"month == 12 | year == @current_year\").copy(deep=True)\n",
    "data_impagg_hist"
   ]
  },
  {
   "cell_type": "markdown",
   "metadata": {},
   "source": [
    "Now we set up the new data"
   ]
  },
  {
   "cell_type": "code",
   "execution_count": null,
   "metadata": {},
   "outputs": [],
   "source": [
    "new_data = agg_imp.groupby([\"year\", \"month\"]).agg({\"value\" : np.sum})\n",
    "new_data = new_data.reset_index()\n",
    "new_data = new_data.rename(columns={\"value\":\"new\"})\n",
    "new_data.loc[:, \"new\"] = pd.to_numeric(new_data.loc[:, \"new\"])\n",
    "new_data.loc[:, \"new\"] = round(new_data.loc[:, \"new\"], 4)\n",
    "new_data"
   ]
  },
  {
   "cell_type": "markdown",
   "metadata": {},
   "source": [
    "We compare the new data. We add a tol parameter"
   ]
  },
  {
   "cell_type": "code",
   "execution_count": null,
   "metadata": {},
   "outputs": [],
   "source": [
    "tol = 0.001"
   ]
  },
  {
   "cell_type": "code",
   "execution_count": null,
   "metadata": {},
   "outputs": [],
   "source": [
    "compare_data = (\n",
    "    pd.merge(new_data, data_impagg_hist, how=\"left\", on=[\"month\", \"year\"])\n",
    "    .assign(\n",
    "        old=lambda x: np.where(np.isnan(x[\"old\"]), 0, x[\"old\"]),\n",
    "        new=lambda x: np.where(np.isnan(x[\"new\"]), 0, x[\"new\"]),\n",
    "    )\n",
    "    .assign(check=lambda x: abs(x[\"old\"] - x[\"new\"]) <= tol)\n",
    ")\n"
   ]
  },
  {
   "cell_type": "markdown",
   "metadata": {},
   "source": [
    "Now we write the data"
   ]
  },
  {
   "cell_type": "code",
   "execution_count": null,
   "metadata": {},
   "outputs": [],
   "source": [
    "path_imp_status = Path.cwd().parent.joinpath(\"data\", \"status_bccr.csv\") \n",
    "compare_data.to_csv(path_imp_status, sep='|', index=False)"
   ]
  },
  {
   "cell_type": "markdown",
   "metadata": {},
   "source": [
    "Now, if the historical data is to heavy and causes an conflict to github is better to keep only the last\n",
    "values and restart the counter. We set a threshold of 40 mb for removing rows"
   ]
  },
  {
   "cell_type": "code",
   "execution_count": null,
   "metadata": {},
   "outputs": [],
   "source": [
    "def write_hist(path, limit=40, file2write):\n",
    "    mb_hist = os.stat(path).st_size/1000000\n",
    "    if mb_hist <= limit:\n",
    "        file = pd.concat([agg_imp.drop(columns=[\"cod\"]).rename(columns={\"date\":\"time\"}), data_imp_hist])\n",
    "    else:\n",
    "        file = agg_imp.drop(columns=[\"cod\"]).rename(columns={\"date\":\"time\"})\n",
    "    path2hist = Path.cwd().parent.joinpath(\"data\", file2write) \n",
    "    file.to_csv(path2hist, sep='|', index=False)\n",
    "    "
   ]
  },
  {
   "cell_type": "code",
   "execution_count": null,
   "metadata": {},
   "outputs": [],
   "source": [
    "write_hist(path=path_imp_hist, file2write=\"historical_imp_data_bccr.csv\")"
   ]
  }
 ],
 "metadata": {
  "interpreter": {
   "hash": "fd76b4acd00797f9a3963f6212d3c558064d79157e27be16f3b4aa31dcd09cc0"
  },
  "kernelspec": {
   "display_name": "Python 3.9.12 (conda)",
   "language": "python",
   "name": "python3"
  },
  "language_info": {
   "codemirror_mode": {
    "name": "ipython",
    "version": 3
   },
   "file_extension": ".py",
   "mimetype": "text/x-python",
   "name": "python",
   "nbconvert_exporter": "python",
   "pygments_lexer": "ipython3",
   "version": "3.9.12"
  },
  "orig_nbformat": 4
 },
 "nbformat": 4,
 "nbformat_minor": 2
}
